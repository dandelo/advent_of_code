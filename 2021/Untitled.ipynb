{
 "cells": [
  {
   "cell_type": "code",
   "execution_count": 17,
   "metadata": {},
   "outputs": [],
   "source": [
    "import lib.commons as commons\n",
    "import numpy as np\n",
    "from parse import parse\n",
    "import time\n",
    "import statistics\n",
    "import pandas as pd\n",
    "import copy\n",
    "import networkx as nx\n",
    "from typing import List\n",
    "from io import StringIO\n",
    "from math import prod"
   ]
  },
  {
   "cell_type": "code",
   "execution_count": 18,
   "metadata": {},
   "outputs": [
    {
     "data": {
      "text/plain": [
       "'target area: x=240..292, y=-90..-57'"
      ]
     },
     "execution_count": 18,
     "metadata": {},
     "output_type": "execute_result"
    }
   ],
   "source": [
    "input_file = 'inputs/day17.txt'\n",
    "# Read as binary, drop first chars indicating it's biary\n",
    "input = open(input_file).read().strip()\n",
    "\n",
    "# input = \"target area: x=20..30, y=-10..-5\"\n",
    "x0, x1, y0, y1 = parse(\"target area: x={:d}..{:d}, y={:d}..{:d}\", input)\n",
    "input"
   ]
  },
  {
   "cell_type": "code",
   "execution_count": 19,
   "metadata": {},
   "outputs": [],
   "source": [
    "def step(current_coord, current_velocity):\n",
    "    new_coord = (current_coord[0] + current_velocity[0], current_coord[1] + current_velocity[1])\n",
    "    new_velocity = (max(current_velocity[0]-1, 0), current_velocity[1]-1)\n",
    "    return new_coord, new_velocity"
   ]
  },
  {
   "cell_type": "code",
   "execution_count": 20,
   "metadata": {},
   "outputs": [],
   "source": [
    "initial_velocity = (7,2)\n",
    "initial_velocity = (6,3)\n",
    "initial_velocity = (9,0)\n",
    "initial_velocity = (6,9)\n",
    "initial_velocity = (6,9)\n",
    "initial_coord = (0,0)\n",
    "target_x = range(x0,x1+1)\n",
    "target_y = range(y0,y1+1)\n",
    "\n",
    "this_coord, this_vel = step((0,0), initial_velocity)\n",
    "max_height = this_coord[1]\n",
    "\n",
    "for _ in range(20):\n",
    "    this_coord, this_vel = step(this_coord, this_vel)\n",
    "    max_height = max(max_height, this_coord[1])\n",
    "    in_target_area = this_coord[0] in target_x and this_coord[1] in target_y\n",
    "    past_target_area = False\n",
    "    if in_target_area:\n",
    "        print(f\"landed at ({this_coord}, {this_vel})\")\n",
    "        print(f\"max_height={max_height}\")\n",
    "        break"
   ]
  },
  {
   "cell_type": "code",
   "execution_count": 22,
   "metadata": {},
   "outputs": [
    {
     "name": "stdout",
     "output_type": "stream",
     "text": [
      "4005\n",
      "2953\n"
     ]
    }
   ],
   "source": [
    "initial_coord = (0,0)\n",
    "target_x = range(x0,x1+1)\n",
    "target_y = range(y0,y1+1)\n",
    "max_height = 0\n",
    "succesful_hits = 0\n",
    "\n",
    "for x in range(0, 300):\n",
    "    for y in range(-100,100):\n",
    "        initial_velocity = (x,y)\n",
    "        this_coord, this_vel = step(initial_coord, initial_velocity)\n",
    "        \n",
    "        in_target_area = this_coord[0] in target_x and this_coord[1] in target_y\n",
    "        past_target_area = False\n",
    "        if in_target_area:\n",
    "#             print(f\"intial velociy ({initial_velocity}) landed at ({this_coord}) with max_height={this_max_height}\")\n",
    "            max_height = max(max_height, this_max_height)\n",
    "            succesful_hits += 1\n",
    "            continue\n",
    "\n",
    "        this_max_height = 0\n",
    "        for _ in range(200):\n",
    "            this_coord, this_vel = step(this_coord, this_vel)\n",
    "            this_max_height = max(this_max_height, this_coord[1])\n",
    "            in_target_area = this_coord[0] in target_x and this_coord[1] in target_y\n",
    "            past_target_area = False\n",
    "            if in_target_area:\n",
    "#                 print(f\"intial velociy ({initial_velocity}) landed at ({this_coord}) with max_height={this_max_height}\")\n",
    "                max_height = max(max_height, this_max_height)\n",
    "                succesful_hits += 1\n",
    "                break\n",
    "\n",
    "print(max_height)\n",
    "print(succesful_hits)"
   ]
  },
  {
   "cell_type": "code",
   "execution_count": null,
   "metadata": {},
   "outputs": [],
   "source": []
  },
  {
   "cell_type": "code",
   "execution_count": null,
   "metadata": {},
   "outputs": [],
   "source": [
    "from multiprocessing import Pool\n",
    "import time\n",
    "\n",
    "spike_cpu_mins = 1\n",
    "\n",
    "def f(x):\n",
    "    # Put any cpu (only) consuming operation here. I have given 1 below -\n",
    "    t_end = time.time() + 60 * 15\n",
    "    while time.time() < t_end:\n",
    "        x * x\n",
    "\n",
    "# decide how many cpus you need to load with.\n",
    "no_of_cpu_to_be_consumed = 3\n",
    "\n",
    "p = Pool(processes=no_of_cpu_to_be_consumed)\n",
    "p.map(f, range(no_of_cpu_to_be_consumed))"
   ]
  },
  {
   "cell_type": "code",
   "execution_count": null,
   "metadata": {},
   "outputs": [],
   "source": [
    "import time\n",
    "\n",
    "def consume_cpu(mins=1):\n",
    "    t_end = time.time() + 60 * spike_cpu_mins\n",
    "    while time.time() < t_end:\n",
    "        100 * 100\n",
    "\n",
    "consume_cpu()"
   ]
  },
  {
   "cell_type": "code",
   "execution_count": null,
   "metadata": {},
   "outputs": [],
   "source": []
  }
 ],
 "metadata": {
  "kernelspec": {
   "display_name": "Python 3",
   "language": "python",
   "name": "python3"
  },
  "language_info": {
   "codemirror_mode": {
    "name": "ipython",
    "version": 3
   },
   "file_extension": ".py",
   "mimetype": "text/x-python",
   "name": "python",
   "nbconvert_exporter": "python",
   "pygments_lexer": "ipython3",
   "version": "3.8.5"
  }
 },
 "nbformat": 4,
 "nbformat_minor": 4
}
